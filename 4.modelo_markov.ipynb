{
 "cells": [
  {
   "cell_type": "code",
   "execution_count": 23,
   "metadata": {},
   "outputs": [],
   "source": [
    "import pandas as pd \n",
    "import numpy as np \n",
    "import requests\n",
    "from bs4 import BeautifulSoup\n",
    "import matplotlib.pyplot as plt\n",
    "import random"
   ]
  },
  {
   "cell_type": "code",
   "execution_count": 24,
   "metadata": {},
   "outputs": [],
   "source": [
    "df = pd.read_csv('data/materias_enriquecida.csv')"
   ]
  },
  {
   "cell_type": "code",
   "execution_count": 25,
   "metadata": {},
   "outputs": [],
   "source": [
    "df['artigo_ex'] = df['artigo_ex'].astype(str).apply(lambda x: x.lower())"
   ]
  },
  {
   "cell_type": "code",
   "execution_count": 26,
   "metadata": {},
   "outputs": [],
   "source": [
    "assunto = 'esportes'\n",
    "\n",
    "texto_de_treino = ''\n",
    "\n",
    "for txt in df[df['assunto']==assunto]['artigo_ex']:\n",
    "\n",
    "    texto_de_treino += ' ' + txt.replace('\\n', '')"
   ]
  },
  {
   "cell_type": "code",
   "execution_count": 29,
   "metadata": {},
   "outputs": [
    {
     "name": "stdout",
     "output_type": "stream",
     "text": [
      "desclassificada. assim, a polonesa vai permanecer no projeto deste ano por lá.além de fertitta, da ex-campeã e repassou uma lição muito grande no rio de janeiro brasil.... ladies and gentleman he is...the reining, defending, undisputed ufc lightweigh champion of the brazilcompartilharo único campeão em 2016. ídolo do principal torneio do povo, sou dilma 13. por um período curto, fez com yushin thunder okami.melhor pro spider seria lutar contra o boavista, em bacaxá pela última rodada do campeonato espanhol, o camisa dez canhotorecentespopularesolha o cara da indonésia, e utilizamintermediários no brasil pela primeira vez, um ano e quando quiser. flwcompartilharufc é\n"
     ]
    }
   ],
   "source": [
    "# Função para criar um modelo de cadeia de Markov a partir do texto de treinamento\n",
    "def criar_modelo(texto, ordem=1):\n",
    "    palavras = texto.split(' ')\n",
    "    modelo = {}\n",
    "    for i in range(len(palavras) - ordem):\n",
    "        prefixo = tuple(palavras[i:i+ordem])\n",
    "        proxima_palavra = palavras[i+ordem]\n",
    "        if prefixo in modelo:\n",
    "            modelo[prefixo].append(proxima_palavra)\n",
    "        else:\n",
    "            modelo[prefixo] = [proxima_palavra]\n",
    "    return modelo\n",
    "\n",
    "# Função para gerar texto com base no modelo\n",
    "def gerar_texto(modelo, comprimento=50, ordem=1):\n",
    "    palavras_geradas = []\n",
    "    prefixo = random.choice(list(modelo.keys()))\n",
    "    for _ in range(comprimento):\n",
    "        proxima_palavra = random.choice(modelo[prefixo])\n",
    "        palavras_geradas.append(proxima_palavra)\n",
    "        prefixo = prefixo[1:] + (proxima_palavra,)\n",
    "    return ' '.join(palavras_geradas)\n",
    "\n",
    "modelo = criar_modelo(texto_de_treino, ordem=2)\n",
    "\n",
    "# Gerar um texto com base no modelo\n",
    "texto_gerado = gerar_texto(modelo, comprimento=100, ordem=1)\n",
    "\n",
    "print(texto_gerado)"
   ]
  },
  {
   "cell_type": "code",
   "execution_count": null,
   "metadata": {},
   "outputs": [],
   "source": []
  }
 ],
 "metadata": {
  "kernelspec": {
   "display_name": "base",
   "language": "python",
   "name": "python3"
  },
  "language_info": {
   "codemirror_mode": {
    "name": "ipython",
    "version": 3
   },
   "file_extension": ".py",
   "mimetype": "text/x-python",
   "name": "python",
   "nbconvert_exporter": "python",
   "pygments_lexer": "ipython3",
   "version": "3.7.6"
  },
  "orig_nbformat": 4
 },
 "nbformat": 4,
 "nbformat_minor": 2
}
